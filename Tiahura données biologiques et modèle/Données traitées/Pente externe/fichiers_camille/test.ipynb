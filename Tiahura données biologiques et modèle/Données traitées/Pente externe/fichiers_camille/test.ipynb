{
 "cells": [
  {
   "cell_type": "code",
   "execution_count": 34,
   "metadata": {},
   "outputs": [],
   "source": [
    "import pandas as pd\n",
    "import numpy as np\n",
    "from scipy.interpolate import interp1d"
   ]
  },
  {
   "cell_type": "code",
   "execution_count": 35,
   "metadata": {},
   "outputs": [],
   "source": [
    "mortalité_filtered = pd.read_csv('mortalité_filtered.csv')"
   ]
  },
  {
   "cell_type": "code",
   "execution_count": 36,
   "metadata": {},
   "outputs": [],
   "source": [
    "def s(n, variable, interet, data):\n",
    "\n",
    "    # data = dataframe contenant toutes les variables\n",
    "    # variable = nom de la colonne de la variable explicative dans data\n",
    "    # interet = nom de la colonne de la variable cible dans data\n",
    "    # n = nombre de bins désirées\n",
    "\n",
    "    var_discrete = np.linspace(data[variable].min(), data[variable].max(), n)\n",
    "\n",
    "    esperance = []\n",
    "    bins = [] # contient le nombre de valeur dans chaque bins\n",
    "    var_bins = [] # contient les valeurs de variables de chaque bins\n",
    "\n",
    "    for i in range(n - 2):\n",
    "        esp = data[interet][(data[variable] >= var_discrete[i])&(data[variable] < var_discrete[i + 1])].mean()\n",
    "        count = data[interet][(data[variable] >= var_discrete[i])&(data[variable] < var_discrete[i + 1])].count()\n",
    "        var = np.array(data[variable][(data[variable] >= var_discrete[i])&(data[variable] < var_discrete[i + 1])])\n",
    "        esperance.append(esp)\n",
    "        bins.append(count)\n",
    "        var_bins.append(var.astype('float'))\n",
    "    \n",
    "    esp = data[interet][(data[variable] >= var_discrete[n - 2])&(data[variable] <= var_discrete[n - 1])].mean()\n",
    "    count = data[interet][(data[variable] >= var_discrete[n - 2])&(data[variable] <= var_discrete[n - 1])].count()\n",
    "    var = np.array(data[variable][(data[variable] >= var_discrete[n - 2])&(data[variable] <= var_discrete[n - 1])])\n",
    "    esperance.append(esp)\n",
    "    bins.append(count)\n",
    "    var_bins.append(var.astype('float'))\n",
    "\n",
    "    return(esperance, bins, var_bins)\n",
    "\n",
    "def interpol(esperance, var_bins):\n",
    "    var_centre = []\n",
    "    for i in range(len(var_bins)):\n",
    "        if len(var_bins[i]) !=0:\n",
    "            var_centre.append(var_bins[i][len(var_bins[i])//2])\n",
    "    \n",
    "    interp_func = interp1d(var_centre, [x for x in esperance if not pd.isna(x)], kind='linear', fill_value='extrapolate')\n",
    "\n",
    "    # Espérance interpolée pour toutes les valeurs de DHW\n",
    "    esperance_interpolation = interp_func(np.unique(np.concatenate(var_bins)))\n",
    "\n",
    "    return(esperance_interpolation, np.unique(np.concatenate(var_bins)))\n",
    "\n",
    "def entrainement(n, data_train, variables, interet):\n",
    "    esperances = []\n",
    "    val_interpol = []\n",
    "    for i in range(len(variables)):\n",
    "        esperance, bins, var_bins = s(n, variables[i],interet, data_train)\n",
    "        interpolation = interpol(esperance, var_bins)\n",
    "        esperances.append(interpolation[0])\n",
    "        val_interpol.append(interpolation[1])\n",
    "    \n",
    "    return(esperances, val_interpol)\n",
    "\n",
    "def F(x, esperance_interpol, val_interpol):\n",
    "    for i in range(len(val_interpol)):\n",
    "        if val_interpol[i] > x:\n",
    "            return(esperance_interpol[i - 1])\n",
    "        elif x >= val_interpol[-1]:\n",
    "            return(esperance_interpol[-1])\n",
    "    return('erreur')\n",
    "\n",
    "def prediction(n, variables, interet, data_train, data):\n",
    "\n",
    "    # n = nombre de bins considérées (= 10)\n",
    "    # variables qu'on considère pour expliquer le gradient de la mortalité (gradient ici) en format liste de str\n",
    "    # variable d'intéret est la variable qu'on cherche à prédire (gradient de la mortalité) en format str\n",
    "    # data_train = tableau pandas contenant les variables et la variables d'intéret sur lequel on entraine le modèle\n",
    "    # data = tableau pandas contenant les variables aux temps auxquels on veut prédire la variable d'intéret\n",
    "\n",
    "    esperances, val_interpol = entrainement(n, data_train, variables, interet)\n",
    "    mort = []\n",
    "    for k in range(len(data)):\n",
    "        somme = 0\n",
    "        for i in range(len(variables)):\n",
    "            somme += F(data[variables[i]].iloc[k], esperances[i], val_interpol[i])\n",
    "        mort.append(somme)\n",
    "    return(mort)\n",
    "    "
   ]
  },
  {
   "cell_type": "code",
   "execution_count": 37,
   "metadata": {},
   "outputs": [],
   "source": [
    "# convert Date to datetime\n",
    "mortalité_filtered['DateTime'] = pd.to_datetime(mortalité_filtered['DateTime'])"
   ]
  },
  {
   "cell_type": "code",
   "execution_count": 38,
   "metadata": {},
   "outputs": [],
   "source": [
    "année = 2009"
   ]
  },
  {
   "cell_type": "code",
   "execution_count": 39,
   "metadata": {},
   "outputs": [],
   "source": [
    "esp, _, var_bins = s(10, 'MMM', 'der_DC_mean', mortalité_filtered[mortalité_filtered['DateTime'].dt.year <= année])"
   ]
  },
  {
   "cell_type": "code",
   "execution_count": 41,
   "metadata": {},
   "outputs": [],
   "source": [
    "var_centre = []\n",
    "for i in range(len(var_bins)):\n",
    "    if len(var_bins[i]) !=0:\n",
    "        var_centre.append(var_bins[i][len(var_bins[i])//2])"
   ]
  },
  {
   "cell_type": "code",
   "execution_count": 42,
   "metadata": {},
   "outputs": [
    {
     "data": {
      "text/plain": [
       "[28.25822874704997,\n",
       " 28.75738826874764,\n",
       " 28.871754492482832,\n",
       " 29.05483870967742,\n",
       " 29.17971629481162,\n",
       " 29.461290322580645]"
      ]
     },
     "execution_count": 42,
     "metadata": {},
     "output_type": "execute_result"
    }
   ],
   "source": [
    "var_centre"
   ]
  },
  {
   "cell_type": "code",
   "execution_count": 43,
   "metadata": {},
   "outputs": [
    {
     "data": {
      "text/plain": [
       "[0.0126999999999998,\n",
       " -0.0274832389797086,\n",
       " 0.006770056999037682,\n",
       " 0.007220224331866519,\n",
       " 0.00841013031315626,\n",
       " 0.008465530260095201]"
      ]
     },
     "execution_count": 43,
     "metadata": {},
     "output_type": "execute_result"
    }
   ],
   "source": [
    "[x for x in esp if not pd.isna(x)]"
   ]
  },
  {
   "cell_type": "code",
   "execution_count": 44,
   "metadata": {},
   "outputs": [],
   "source": [
    "interpolation = interpol(esp, var_bins)"
   ]
  },
  {
   "cell_type": "code",
   "execution_count": 45,
   "metadata": {},
   "outputs": [
    {
     "data": {
      "text/plain": [
       "[0.00997866114252574,\n",
       " 0.004003081595847526,\n",
       " -0.008225485557141265,\n",
       " 0.0438286805299549,\n",
       " 0.03552776145345855,\n",
       " 0.01912831143857859,\n",
       " 0.023227037039196374,\n",
       " -0.0003892926316375542,\n",
       " 0.019855241590303982,\n",
       " 0.019855241590303982,\n",
       " 0.0431257040192506,\n",
       " 0.03582854157656652,\n",
       " 0.03710917888503375,\n",
       " 0.010693773713937859,\n",
       " 0.04540742339992268,\n",
       " 0.02630755424317636,\n",
       " 0.04067079061267122,\n",
       " 0.033817912707909306,\n",
       " 0.0010887706646245266,\n",
       " -0.009828670753871883,\n",
       " 0.02529223360974589,\n",
       " 0.02808099890411913,\n",
       " 0.022800182608902,\n",
       " 0.01938173118114922,\n",
       " 0.03855411462502869,\n",
       " 0.00914664286392201,\n",
       " 0.026895418806476515,\n",
       " -0.008225485557141265,\n",
       " -0.0016636848644983396,\n",
       " 0.00914664286392201,\n",
       " 0.0023881201603534524,\n",
       " 0.012590007353316522,\n",
       " 0.012590007353316522,\n",
       " 0.007431494511600611,\n",
       " 0.007106989835133408,\n",
       " 0.04828585459712912,\n",
       " 0.049752205422854745,\n",
       " 0.03625895218570368]"
      ]
     },
     "execution_count": 45,
     "metadata": {},
     "output_type": "execute_result"
    }
   ],
   "source": [
    "prediction(10, ['MMM', 'dhw', 'pdo'], 'der_DC_mean', mortalité_filtered[mortalité_filtered['DateTime'].dt.year <= année], mortalité_filtered[mortalité_filtered['DateTime'].dt.year > année])"
   ]
  }
 ],
 "metadata": {
  "kernelspec": {
   "display_name": "base",
   "language": "python",
   "name": "python3"
  },
  "language_info": {
   "codemirror_mode": {
    "name": "ipython",
    "version": 3
   },
   "file_extension": ".py",
   "mimetype": "text/x-python",
   "name": "python",
   "nbconvert_exporter": "python",
   "pygments_lexer": "ipython3",
   "version": "3.10.13"
  }
 },
 "nbformat": 4,
 "nbformat_minor": 2
}
